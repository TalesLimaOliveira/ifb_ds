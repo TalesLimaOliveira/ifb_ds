{
  "nbformat": 4,
  "nbformat_minor": 0,
  "metadata": {
    "colab": {
      "provenance": []
    },
    "kernelspec": {
      "name": "python3",
      "display_name": "Python 3"
    },
    "language_info": {
      "name": "python"
    }
  },
  "cells": [
    {
      "cell_type": "markdown",
      "source": [
        "# **Data Science - IFB**\n",
        "\n",
        "**TALES LIMA DE OLIVEIRA**\n",
        "\n",
        "**_Lista 01 - 09/04/25_**"
      ],
      "metadata": {
        "id": "Cr0fMv83A-YA"
      }
    },
    {
      "cell_type": "markdown",
      "source": [
        "### *Caminho para os arquivos*"
      ],
      "metadata": {
        "id": "mxWr7iOGn81-"
      }
    },
    {
      "cell_type": "code",
      "source": [
        "##### IMPORTAR DADOS DO DRIVE #####\n",
        "from google.colab import drive\n",
        "drive.mount('/content/drive')\n",
        "path_ecom = '/content/drive/MyDrive/ColabNotebooks/Python/ifb_ds/ecommerce_purchases.csv'\n",
        "path_conc = '/content/drive/MyDrive/ColabNotebooks/Python/ifb_ds/conceito_enade_2021.xlsx'\n",
        "\n",
        "##### IMPORTAR DADOS DA PASTA LOCAL #####\n",
        "# path_ecom = 'data/ecommerce_purchases.csv'\n",
        "# path_conc = 'data/conceito_enade_2021.xlsx'"
      ],
      "metadata": {
        "colab": {
          "base_uri": "https://localhost:8080/"
        },
        "id": "ChX3iaxLgPVN",
        "outputId": "3001d668-2284-40dd-ff81-87a3fa34d7dd"
      },
      "execution_count": 1,
      "outputs": [
        {
          "output_type": "stream",
          "name": "stdout",
          "text": [
            "Drive already mounted at /content/drive; to attempt to forcibly remount, call drive.mount(\"/content/drive\", force_remount=True).\n"
          ]
        }
      ]
    },
    {
      "cell_type": "markdown",
      "source": [
        "## Exercício - Compras de Ecommerce  \n",
        "\n",
        "Neste exercício, você receberá alguns dados falsos sobre algumas compras feitas pela Amazon! Basta seguir as instruções e tente dar melhor para responder as perguntas e completar as tarefas. Sinta-se a vontade para dar uma olhada nas soluções. A maioria das tarefas pode ser resolvida de diferentes maneiras. Para a maior parte, as perguntas ficam cada vez mais difíceis."
      ],
      "metadata": {
        "id": "tE5F_CM8_Z9P"
      }
    },
    {
      "cell_type": "markdown",
      "source": [
        "Importe pandas e leia o arquivo csv \"Ecommerce Purchases\" e configure-o para um DataFrame chamado ecom."
      ],
      "metadata": {
        "id": "cpnFSLwo_ePw"
      }
    },
    {
      "cell_type": "code",
      "source": [
        "import pandas as pd\n",
        "df_ecom = pd.read_csv(path_ecom)"
      ],
      "metadata": {
        "id": "TOjMXE2gmWyG"
      },
      "execution_count": 38,
      "outputs": []
    },
    {
      "cell_type": "markdown",
      "source": [
        "Verifique o \"head\" do DataFrame."
      ],
      "metadata": {
        "id": "QPxHct3HAJXY"
      }
    },
    {
      "cell_type": "code",
      "source": [
        "df_ecom.head()"
      ],
      "metadata": {
        "id": "8d4EKs4GAMiY",
        "colab": {
          "base_uri": "https://localhost:8080/",
          "height": 608
        },
        "outputId": "8b6a9910-dfd9-4a8c-a26b-692976f5c3e5"
      },
      "execution_count": 39,
      "outputs": [
        {
          "output_type": "execute_result",
          "data": {
            "text/plain": [
              "                                             Address    Lot AM or PM  \\\n",
              "0  16629 Pace Camp Apt. 448\\nAlexisborough, NE 77...  46 in       PM   \n",
              "1  9374 Jasmine Spurs Suite 508\\nSouth John, TN 8...  28 rn       PM   \n",
              "2                   Unit 0065 Box 5052\\nDPO AP 27450  94 vE       PM   \n",
              "3              7780 Julia Fords\\nNew Stacy, WA 45798  36 vm       PM   \n",
              "4  23012 Munoz Drive Suite 337\\nNew Cynthia, TX 5...  20 IE       AM   \n",
              "\n",
              "                                        Browser Info  \\\n",
              "0  Opera/9.56.(X11; Linux x86_64; sl-SI) Presto/2...   \n",
              "1  Opera/8.93.(Windows 98; Win 9x 4.90; en-US) Pr...   \n",
              "2  Mozilla/5.0 (compatible; MSIE 9.0; Windows NT ...   \n",
              "3  Mozilla/5.0 (Macintosh; Intel Mac OS X 10_8_0 ...   \n",
              "4  Opera/9.58.(X11; Linux x86_64; it-IT) Presto/2...   \n",
              "\n",
              "                           Company       Credit Card CC Exp Date  \\\n",
              "0                  Martinez-Herman  6011929061123406       02/20   \n",
              "1  Fletcher, Richards and Whitaker  3337758169645356       11/18   \n",
              "2       Simpson, Williams and Pham      675957666125       08/19   \n",
              "3  Williams, Marshall and Buchanan  6011578504430710       02/24   \n",
              "4        Brown, Watson and Andrews  6011456623207998       10/25   \n",
              "\n",
              "   CC Security Code                  CC Provider  \\\n",
              "0               900                 JCB 16 digit   \n",
              "1               561                   Mastercard   \n",
              "2               699                 JCB 16 digit   \n",
              "3               384                     Discover   \n",
              "4               678  Diners Club / Carte Blanche   \n",
              "\n",
              "                            Email                                     Job  \\\n",
              "0               pdunlap@yahoo.com  Scientist, product/process development   \n",
              "1              anthony41@reed.com                       Drilling engineer   \n",
              "2  amymiller@morales-harrison.com                Customer service manager   \n",
              "3     brent16@olson-robinson.info                       Drilling engineer   \n",
              "4     christopherwright@gmail.com                             Fine artist   \n",
              "\n",
              "        IP Address Language  Purchase Price  \n",
              "0  149.146.147.205       el           98.14  \n",
              "1     15.160.41.51       fr           70.73  \n",
              "2   132.207.160.22       de            0.95  \n",
              "3     30.250.74.19       es           78.04  \n",
              "4     24.140.33.94       es           77.82  "
            ],
            "text/html": [
              "\n",
              "  <div id=\"df-d9b37acb-3bc0-4854-8d07-4e7738460291\" class=\"colab-df-container\">\n",
              "    <div>\n",
              "<style scoped>\n",
              "    .dataframe tbody tr th:only-of-type {\n",
              "        vertical-align: middle;\n",
              "    }\n",
              "\n",
              "    .dataframe tbody tr th {\n",
              "        vertical-align: top;\n",
              "    }\n",
              "\n",
              "    .dataframe thead th {\n",
              "        text-align: right;\n",
              "    }\n",
              "</style>\n",
              "<table border=\"1\" class=\"dataframe\">\n",
              "  <thead>\n",
              "    <tr style=\"text-align: right;\">\n",
              "      <th></th>\n",
              "      <th>Address</th>\n",
              "      <th>Lot</th>\n",
              "      <th>AM or PM</th>\n",
              "      <th>Browser Info</th>\n",
              "      <th>Company</th>\n",
              "      <th>Credit Card</th>\n",
              "      <th>CC Exp Date</th>\n",
              "      <th>CC Security Code</th>\n",
              "      <th>CC Provider</th>\n",
              "      <th>Email</th>\n",
              "      <th>Job</th>\n",
              "      <th>IP Address</th>\n",
              "      <th>Language</th>\n",
              "      <th>Purchase Price</th>\n",
              "    </tr>\n",
              "  </thead>\n",
              "  <tbody>\n",
              "    <tr>\n",
              "      <th>0</th>\n",
              "      <td>16629 Pace Camp Apt. 448\\nAlexisborough, NE 77...</td>\n",
              "      <td>46 in</td>\n",
              "      <td>PM</td>\n",
              "      <td>Opera/9.56.(X11; Linux x86_64; sl-SI) Presto/2...</td>\n",
              "      <td>Martinez-Herman</td>\n",
              "      <td>6011929061123406</td>\n",
              "      <td>02/20</td>\n",
              "      <td>900</td>\n",
              "      <td>JCB 16 digit</td>\n",
              "      <td>pdunlap@yahoo.com</td>\n",
              "      <td>Scientist, product/process development</td>\n",
              "      <td>149.146.147.205</td>\n",
              "      <td>el</td>\n",
              "      <td>98.14</td>\n",
              "    </tr>\n",
              "    <tr>\n",
              "      <th>1</th>\n",
              "      <td>9374 Jasmine Spurs Suite 508\\nSouth John, TN 8...</td>\n",
              "      <td>28 rn</td>\n",
              "      <td>PM</td>\n",
              "      <td>Opera/8.93.(Windows 98; Win 9x 4.90; en-US) Pr...</td>\n",
              "      <td>Fletcher, Richards and Whitaker</td>\n",
              "      <td>3337758169645356</td>\n",
              "      <td>11/18</td>\n",
              "      <td>561</td>\n",
              "      <td>Mastercard</td>\n",
              "      <td>anthony41@reed.com</td>\n",
              "      <td>Drilling engineer</td>\n",
              "      <td>15.160.41.51</td>\n",
              "      <td>fr</td>\n",
              "      <td>70.73</td>\n",
              "    </tr>\n",
              "    <tr>\n",
              "      <th>2</th>\n",
              "      <td>Unit 0065 Box 5052\\nDPO AP 27450</td>\n",
              "      <td>94 vE</td>\n",
              "      <td>PM</td>\n",
              "      <td>Mozilla/5.0 (compatible; MSIE 9.0; Windows NT ...</td>\n",
              "      <td>Simpson, Williams and Pham</td>\n",
              "      <td>675957666125</td>\n",
              "      <td>08/19</td>\n",
              "      <td>699</td>\n",
              "      <td>JCB 16 digit</td>\n",
              "      <td>amymiller@morales-harrison.com</td>\n",
              "      <td>Customer service manager</td>\n",
              "      <td>132.207.160.22</td>\n",
              "      <td>de</td>\n",
              "      <td>0.95</td>\n",
              "    </tr>\n",
              "    <tr>\n",
              "      <th>3</th>\n",
              "      <td>7780 Julia Fords\\nNew Stacy, WA 45798</td>\n",
              "      <td>36 vm</td>\n",
              "      <td>PM</td>\n",
              "      <td>Mozilla/5.0 (Macintosh; Intel Mac OS X 10_8_0 ...</td>\n",
              "      <td>Williams, Marshall and Buchanan</td>\n",
              "      <td>6011578504430710</td>\n",
              "      <td>02/24</td>\n",
              "      <td>384</td>\n",
              "      <td>Discover</td>\n",
              "      <td>brent16@olson-robinson.info</td>\n",
              "      <td>Drilling engineer</td>\n",
              "      <td>30.250.74.19</td>\n",
              "      <td>es</td>\n",
              "      <td>78.04</td>\n",
              "    </tr>\n",
              "    <tr>\n",
              "      <th>4</th>\n",
              "      <td>23012 Munoz Drive Suite 337\\nNew Cynthia, TX 5...</td>\n",
              "      <td>20 IE</td>\n",
              "      <td>AM</td>\n",
              "      <td>Opera/9.58.(X11; Linux x86_64; it-IT) Presto/2...</td>\n",
              "      <td>Brown, Watson and Andrews</td>\n",
              "      <td>6011456623207998</td>\n",
              "      <td>10/25</td>\n",
              "      <td>678</td>\n",
              "      <td>Diners Club / Carte Blanche</td>\n",
              "      <td>christopherwright@gmail.com</td>\n",
              "      <td>Fine artist</td>\n",
              "      <td>24.140.33.94</td>\n",
              "      <td>es</td>\n",
              "      <td>77.82</td>\n",
              "    </tr>\n",
              "  </tbody>\n",
              "</table>\n",
              "</div>\n",
              "    <div class=\"colab-df-buttons\">\n",
              "\n",
              "  <div class=\"colab-df-container\">\n",
              "    <button class=\"colab-df-convert\" onclick=\"convertToInteractive('df-d9b37acb-3bc0-4854-8d07-4e7738460291')\"\n",
              "            title=\"Convert this dataframe to an interactive table.\"\n",
              "            style=\"display:none;\">\n",
              "\n",
              "  <svg xmlns=\"http://www.w3.org/2000/svg\" height=\"24px\" viewBox=\"0 -960 960 960\">\n",
              "    <path d=\"M120-120v-720h720v720H120Zm60-500h600v-160H180v160Zm220 220h160v-160H400v160Zm0 220h160v-160H400v160ZM180-400h160v-160H180v160Zm440 0h160v-160H620v160ZM180-180h160v-160H180v160Zm440 0h160v-160H620v160Z\"/>\n",
              "  </svg>\n",
              "    </button>\n",
              "\n",
              "  <style>\n",
              "    .colab-df-container {\n",
              "      display:flex;\n",
              "      gap: 12px;\n",
              "    }\n",
              "\n",
              "    .colab-df-convert {\n",
              "      background-color: #E8F0FE;\n",
              "      border: none;\n",
              "      border-radius: 50%;\n",
              "      cursor: pointer;\n",
              "      display: none;\n",
              "      fill: #1967D2;\n",
              "      height: 32px;\n",
              "      padding: 0 0 0 0;\n",
              "      width: 32px;\n",
              "    }\n",
              "\n",
              "    .colab-df-convert:hover {\n",
              "      background-color: #E2EBFA;\n",
              "      box-shadow: 0px 1px 2px rgba(60, 64, 67, 0.3), 0px 1px 3px 1px rgba(60, 64, 67, 0.15);\n",
              "      fill: #174EA6;\n",
              "    }\n",
              "\n",
              "    .colab-df-buttons div {\n",
              "      margin-bottom: 4px;\n",
              "    }\n",
              "\n",
              "    [theme=dark] .colab-df-convert {\n",
              "      background-color: #3B4455;\n",
              "      fill: #D2E3FC;\n",
              "    }\n",
              "\n",
              "    [theme=dark] .colab-df-convert:hover {\n",
              "      background-color: #434B5C;\n",
              "      box-shadow: 0px 1px 3px 1px rgba(0, 0, 0, 0.15);\n",
              "      filter: drop-shadow(0px 1px 2px rgba(0, 0, 0, 0.3));\n",
              "      fill: #FFFFFF;\n",
              "    }\n",
              "  </style>\n",
              "\n",
              "    <script>\n",
              "      const buttonEl =\n",
              "        document.querySelector('#df-d9b37acb-3bc0-4854-8d07-4e7738460291 button.colab-df-convert');\n",
              "      buttonEl.style.display =\n",
              "        google.colab.kernel.accessAllowed ? 'block' : 'none';\n",
              "\n",
              "      async function convertToInteractive(key) {\n",
              "        const element = document.querySelector('#df-d9b37acb-3bc0-4854-8d07-4e7738460291');\n",
              "        const dataTable =\n",
              "          await google.colab.kernel.invokeFunction('convertToInteractive',\n",
              "                                                    [key], {});\n",
              "        if (!dataTable) return;\n",
              "\n",
              "        const docLinkHtml = 'Like what you see? Visit the ' +\n",
              "          '<a target=\"_blank\" href=https://colab.research.google.com/notebooks/data_table.ipynb>data table notebook</a>'\n",
              "          + ' to learn more about interactive tables.';\n",
              "        element.innerHTML = '';\n",
              "        dataTable['output_type'] = 'display_data';\n",
              "        await google.colab.output.renderOutput(dataTable, element);\n",
              "        const docLink = document.createElement('div');\n",
              "        docLink.innerHTML = docLinkHtml;\n",
              "        element.appendChild(docLink);\n",
              "      }\n",
              "    </script>\n",
              "  </div>\n",
              "\n",
              "\n",
              "<div id=\"df-3da73213-8e35-421d-b195-de19fdda6e6c\">\n",
              "  <button class=\"colab-df-quickchart\" onclick=\"quickchart('df-3da73213-8e35-421d-b195-de19fdda6e6c')\"\n",
              "            title=\"Suggest charts\"\n",
              "            style=\"display:none;\">\n",
              "\n",
              "<svg xmlns=\"http://www.w3.org/2000/svg\" height=\"24px\"viewBox=\"0 0 24 24\"\n",
              "     width=\"24px\">\n",
              "    <g>\n",
              "        <path d=\"M19 3H5c-1.1 0-2 .9-2 2v14c0 1.1.9 2 2 2h14c1.1 0 2-.9 2-2V5c0-1.1-.9-2-2-2zM9 17H7v-7h2v7zm4 0h-2V7h2v10zm4 0h-2v-4h2v4z\"/>\n",
              "    </g>\n",
              "</svg>\n",
              "  </button>\n",
              "\n",
              "<style>\n",
              "  .colab-df-quickchart {\n",
              "      --bg-color: #E8F0FE;\n",
              "      --fill-color: #1967D2;\n",
              "      --hover-bg-color: #E2EBFA;\n",
              "      --hover-fill-color: #174EA6;\n",
              "      --disabled-fill-color: #AAA;\n",
              "      --disabled-bg-color: #DDD;\n",
              "  }\n",
              "\n",
              "  [theme=dark] .colab-df-quickchart {\n",
              "      --bg-color: #3B4455;\n",
              "      --fill-color: #D2E3FC;\n",
              "      --hover-bg-color: #434B5C;\n",
              "      --hover-fill-color: #FFFFFF;\n",
              "      --disabled-bg-color: #3B4455;\n",
              "      --disabled-fill-color: #666;\n",
              "  }\n",
              "\n",
              "  .colab-df-quickchart {\n",
              "    background-color: var(--bg-color);\n",
              "    border: none;\n",
              "    border-radius: 50%;\n",
              "    cursor: pointer;\n",
              "    display: none;\n",
              "    fill: var(--fill-color);\n",
              "    height: 32px;\n",
              "    padding: 0;\n",
              "    width: 32px;\n",
              "  }\n",
              "\n",
              "  .colab-df-quickchart:hover {\n",
              "    background-color: var(--hover-bg-color);\n",
              "    box-shadow: 0 1px 2px rgba(60, 64, 67, 0.3), 0 1px 3px 1px rgba(60, 64, 67, 0.15);\n",
              "    fill: var(--button-hover-fill-color);\n",
              "  }\n",
              "\n",
              "  .colab-df-quickchart-complete:disabled,\n",
              "  .colab-df-quickchart-complete:disabled:hover {\n",
              "    background-color: var(--disabled-bg-color);\n",
              "    fill: var(--disabled-fill-color);\n",
              "    box-shadow: none;\n",
              "  }\n",
              "\n",
              "  .colab-df-spinner {\n",
              "    border: 2px solid var(--fill-color);\n",
              "    border-color: transparent;\n",
              "    border-bottom-color: var(--fill-color);\n",
              "    animation:\n",
              "      spin 1s steps(1) infinite;\n",
              "  }\n",
              "\n",
              "  @keyframes spin {\n",
              "    0% {\n",
              "      border-color: transparent;\n",
              "      border-bottom-color: var(--fill-color);\n",
              "      border-left-color: var(--fill-color);\n",
              "    }\n",
              "    20% {\n",
              "      border-color: transparent;\n",
              "      border-left-color: var(--fill-color);\n",
              "      border-top-color: var(--fill-color);\n",
              "    }\n",
              "    30% {\n",
              "      border-color: transparent;\n",
              "      border-left-color: var(--fill-color);\n",
              "      border-top-color: var(--fill-color);\n",
              "      border-right-color: var(--fill-color);\n",
              "    }\n",
              "    40% {\n",
              "      border-color: transparent;\n",
              "      border-right-color: var(--fill-color);\n",
              "      border-top-color: var(--fill-color);\n",
              "    }\n",
              "    60% {\n",
              "      border-color: transparent;\n",
              "      border-right-color: var(--fill-color);\n",
              "    }\n",
              "    80% {\n",
              "      border-color: transparent;\n",
              "      border-right-color: var(--fill-color);\n",
              "      border-bottom-color: var(--fill-color);\n",
              "    }\n",
              "    90% {\n",
              "      border-color: transparent;\n",
              "      border-bottom-color: var(--fill-color);\n",
              "    }\n",
              "  }\n",
              "</style>\n",
              "\n",
              "  <script>\n",
              "    async function quickchart(key) {\n",
              "      const quickchartButtonEl =\n",
              "        document.querySelector('#' + key + ' button');\n",
              "      quickchartButtonEl.disabled = true;  // To prevent multiple clicks.\n",
              "      quickchartButtonEl.classList.add('colab-df-spinner');\n",
              "      try {\n",
              "        const charts = await google.colab.kernel.invokeFunction(\n",
              "            'suggestCharts', [key], {});\n",
              "      } catch (error) {\n",
              "        console.error('Error during call to suggestCharts:', error);\n",
              "      }\n",
              "      quickchartButtonEl.classList.remove('colab-df-spinner');\n",
              "      quickchartButtonEl.classList.add('colab-df-quickchart-complete');\n",
              "    }\n",
              "    (() => {\n",
              "      let quickchartButtonEl =\n",
              "        document.querySelector('#df-3da73213-8e35-421d-b195-de19fdda6e6c button');\n",
              "      quickchartButtonEl.style.display =\n",
              "        google.colab.kernel.accessAllowed ? 'block' : 'none';\n",
              "    })();\n",
              "  </script>\n",
              "</div>\n",
              "\n",
              "    </div>\n",
              "  </div>\n"
            ],
            "application/vnd.google.colaboratory.intrinsic+json": {
              "type": "dataframe",
              "variable_name": "df_ecom",
              "summary": "{\n  \"name\": \"df_ecom\",\n  \"rows\": 10000,\n  \"fields\": [\n    {\n      \"column\": \"Address\",\n      \"properties\": {\n        \"dtype\": \"string\",\n        \"num_unique_values\": 10000,\n        \"samples\": [\n          \"1606 Martin Roads Apt. 575\\nLake Bradleymouth, GU 86537-3756\",\n          \"8859 Jackson Motorway Suite 400\\nEast Samanthaland, DE 40105-9834\",\n          \"392 Andrew Loaf Suite 571\\nSouth Karen, GU 04082\"\n        ],\n        \"semantic_type\": \"\",\n        \"description\": \"\"\n      }\n    },\n    {\n      \"column\": \"Lot\",\n      \"properties\": {\n        \"dtype\": \"string\",\n        \"num_unique_values\": 9822,\n        \"samples\": [\n          \"60 uq\",\n          \"14 FY\",\n          \"54 iF\"\n        ],\n        \"semantic_type\": \"\",\n        \"description\": \"\"\n      }\n    },\n    {\n      \"column\": \"AM or PM\",\n      \"properties\": {\n        \"dtype\": \"category\",\n        \"num_unique_values\": 2,\n        \"samples\": [\n          \"AM\",\n          \"PM\"\n        ],\n        \"semantic_type\": \"\",\n        \"description\": \"\"\n      }\n    },\n    {\n      \"column\": \"Browser Info\",\n      \"properties\": {\n        \"dtype\": \"string\",\n        \"num_unique_values\": 8287,\n        \"samples\": [\n          \"Mozilla/5.0 (Macintosh; U; PPC Mac OS X 10_8_1 rv:2.0; en-US) AppleWebKit/534.29.5 (KHTML, like Gecko) Version/4.1 Safari/534.29.5\",\n          \"Mozilla/5.0 (Windows NT 4.0) AppleWebKit/5332 (KHTML, like Gecko) Chrome/14.0.891.0 Safari/5332\"\n        ],\n        \"semantic_type\": \"\",\n        \"description\": \"\"\n      }\n    },\n    {\n      \"column\": \"Company\",\n      \"properties\": {\n        \"dtype\": \"string\",\n        \"num_unique_values\": 8653,\n        \"samples\": [\n          \"Richards-Steele\",\n          \"Forbes, Orozco and Ellis\"\n        ],\n        \"semantic_type\": \"\",\n        \"description\": \"\"\n      }\n    },\n    {\n      \"column\": \"Credit Card\",\n      \"properties\": {\n        \"dtype\": \"number\",\n        \"std\": 2256102885223834,\n        \"min\": 60401860543,\n        \"max\": 6011999761615928,\n        \"num_unique_values\": 10000,\n        \"samples\": [\n          3528401718511980,\n          501814809031\n        ],\n        \"semantic_type\": \"\",\n        \"description\": \"\"\n      }\n    },\n    {\n      \"column\": \"CC Exp Date\",\n      \"properties\": {\n        \"dtype\": \"category\",\n        \"num_unique_values\": 121,\n        \"samples\": [\n          \"11/23\",\n          \"01/24\"\n        ],\n        \"semantic_type\": \"\",\n        \"description\": \"\"\n      }\n    },\n    {\n      \"column\": \"CC Security Code\",\n      \"properties\": {\n        \"dtype\": \"number\",\n        \"std\": 1589,\n        \"min\": 0,\n        \"max\": 9993,\n        \"num_unique_values\": 1758,\n        \"samples\": [\n          541,\n          341\n        ],\n        \"semantic_type\": \"\",\n        \"description\": \"\"\n      }\n    },\n    {\n      \"column\": \"CC Provider\",\n      \"properties\": {\n        \"dtype\": \"category\",\n        \"num_unique_values\": 10,\n        \"samples\": [\n          \"JCB 15 digit\",\n          \"Mastercard\"\n        ],\n        \"semantic_type\": \"\",\n        \"description\": \"\"\n      }\n    },\n    {\n      \"column\": \"Email\",\n      \"properties\": {\n        \"dtype\": \"string\",\n        \"num_unique_values\": 9954,\n        \"samples\": [\n          \"matthewwade@mcintyre.info\",\n          \"olsonscott@yahoo.com\"\n        ],\n        \"semantic_type\": \"\",\n        \"description\": \"\"\n      }\n    },\n    {\n      \"column\": \"Job\",\n      \"properties\": {\n        \"dtype\": \"category\",\n        \"num_unique_values\": 623,\n        \"samples\": [\n          \"Engineer, structural\",\n          \"Programmer, applications\"\n        ],\n        \"semantic_type\": \"\",\n        \"description\": \"\"\n      }\n    },\n    {\n      \"column\": \"IP Address\",\n      \"properties\": {\n        \"dtype\": \"string\",\n        \"num_unique_values\": 10000,\n        \"samples\": [\n          \"30.49.135.47\",\n          \"165.76.105.181\"\n        ],\n        \"semantic_type\": \"\",\n        \"description\": \"\"\n      }\n    },\n    {\n      \"column\": \"Language\",\n      \"properties\": {\n        \"dtype\": \"category\",\n        \"num_unique_values\": 9,\n        \"samples\": [\n          \"en\",\n          \"fr\"\n        ],\n        \"semantic_type\": \"\",\n        \"description\": \"\"\n      }\n    },\n    {\n      \"column\": \"Purchase Price\",\n      \"properties\": {\n        \"dtype\": \"number\",\n        \"std\": 29.015836309789048,\n        \"min\": 0.0,\n        \"max\": 99.99,\n        \"num_unique_values\": 6349,\n        \"samples\": [\n          8.61,\n          0.21\n        ],\n        \"semantic_type\": \"\",\n        \"description\": \"\"\n      }\n    }\n  ]\n}"
            }
          },
          "metadata": {},
          "execution_count": 39
        }
      ]
    },
    {
      "cell_type": "markdown",
      "source": [
        "Quantas linhas e colunas existem?"
      ],
      "metadata": {
        "id": "WlTGtpE9AM2Y"
      }
    },
    {
      "cell_type": "code",
      "source": [
        "rows, columns = df_ecom.shape\n",
        "print(rows, columns)"
      ],
      "metadata": {
        "id": "-wlPiR8aAVV_",
        "colab": {
          "base_uri": "https://localhost:8080/"
        },
        "outputId": "9a7a5077-2306-4469-daa1-754da11538bc"
      },
      "execution_count": 40,
      "outputs": [
        {
          "output_type": "stream",
          "name": "stdout",
          "text": [
            "10000 14\n"
          ]
        }
      ]
    },
    {
      "cell_type": "markdown",
      "source": [
        "Qual é o preço de compra médio?"
      ],
      "metadata": {
        "id": "2XlPuz_eAVlA"
      }
    },
    {
      "cell_type": "code",
      "source": [
        "average_price = df_ecom['Purchase Price'].mean()\n",
        "print(f\"${average_price:.2f}\")"
      ],
      "metadata": {
        "id": "e_TeIVyBAYgQ",
        "colab": {
          "base_uri": "https://localhost:8080/"
        },
        "outputId": "0c2f43e5-b3b3-4884-91de-b7e846c7f2c8"
      },
      "execution_count": 41,
      "outputs": [
        {
          "output_type": "stream",
          "name": "stdout",
          "text": [
            "$50.35\n"
          ]
        }
      ]
    },
    {
      "cell_type": "markdown",
      "source": [
        "Quais foram os preços de compra mais altos e mais baixos?"
      ],
      "metadata": {
        "id": "kKCQ5B_oAY0P"
      }
    },
    {
      "cell_type": "code",
      "source": [
        "max_price = df_ecom['Purchase Price'].max()\n",
        "min_price = df_ecom['Purchase Price'].min()\n",
        "\n",
        "print(f\"Max: ${max_price:.2f}\")\n",
        "print(f\"Min: ${min_price:.2f}\")"
      ],
      "metadata": {
        "id": "BxYv6srYAcLv",
        "colab": {
          "base_uri": "https://localhost:8080/"
        },
        "outputId": "24d93cbc-e391-48e0-8ac4-816becb79ade"
      },
      "execution_count": 42,
      "outputs": [
        {
          "output_type": "stream",
          "name": "stdout",
          "text": [
            "Max: $99.99\n",
            "Min: $0.00\n"
          ]
        }
      ]
    },
    {
      "cell_type": "markdown",
      "source": [
        "Quantas pessoas têm Inglês 'en' como sua língua de escolha no site?"
      ],
      "metadata": {
        "id": "8KtZAJjzAccX"
      }
    },
    {
      "cell_type": "code",
      "source": [
        "num_english_users = (df_ecom['Language'] == 'en').sum()\n",
        "print(num_english_users)"
      ],
      "metadata": {
        "id": "VhGGxy0EAfnn",
        "colab": {
          "base_uri": "https://localhost:8080/"
        },
        "outputId": "f0fd19d7-686c-4703-837c-636f01876f03"
      },
      "execution_count": 43,
      "outputs": [
        {
          "output_type": "stream",
          "name": "stdout",
          "text": [
            "1098\n"
          ]
        }
      ]
    },
    {
      "cell_type": "markdown",
      "source": [
        "Quantas pessoas têm o cargo de \"Advogado\" (lawyer)?"
      ],
      "metadata": {
        "id": "m1nGhTsJAgAg"
      }
    },
    {
      "cell_type": "code",
      "source": [
        "num_lawyers = df_ecom['Job'].str.contains(r'\\blawyer\\b', case=False, na=False).sum()\n",
        "# num_lawyers = df_ecom['Job'].str.contains('Lawyer').sum()\n",
        "print(num_lawyers)"
      ],
      "metadata": {
        "id": "NFK-k8KtAiYv",
        "colab": {
          "base_uri": "https://localhost:8080/"
        },
        "outputId": "2906f122-5348-4e6f-bbd1-81bb8e298b60"
      },
      "execution_count": 44,
      "outputs": [
        {
          "output_type": "stream",
          "name": "stdout",
          "text": [
            "30\n"
          ]
        }
      ]
    },
    {
      "cell_type": "markdown",
      "source": [
        "Quantas pessoas fizeram a compra durante a AM e quantas pessoas fizeram a compra durante o PM?\n",
        "\n",
        "*(Sugestão: Confira [value_counts ()](http://pandas.pydata.org/pandas-docs/stable/generated/pandas.Series.value_counts.html))*"
      ],
      "metadata": {
        "id": "H8g6jWsUAixv"
      }
    },
    {
      "cell_type": "code",
      "source": [
        "am_pm_counts = df_ecom['AM or PM'].value_counts()\n",
        "print(am_pm_counts)"
      ],
      "metadata": {
        "id": "wBRhUl3BAoHg",
        "colab": {
          "base_uri": "https://localhost:8080/"
        },
        "outputId": "1665c54c-85d1-44b4-a27d-f8055d7b644e"
      },
      "execution_count": 45,
      "outputs": [
        {
          "output_type": "stream",
          "name": "stdout",
          "text": [
            "AM or PM\n",
            "PM    5068\n",
            "AM    4932\n",
            "Name: count, dtype: int64\n"
          ]
        }
      ]
    },
    {
      "cell_type": "markdown",
      "source": [
        "Quais são os 5 títulos de trabalho mais comuns?"
      ],
      "metadata": {
        "id": "4nhFboLPAob3"
      }
    },
    {
      "cell_type": "code",
      "source": [
        "top_5_job = df_ecom['Job'].value_counts().head(5)\n",
        "print(top_5_job)"
      ],
      "metadata": {
        "id": "3UV5z5qvArB_",
        "colab": {
          "base_uri": "https://localhost:8080/"
        },
        "outputId": "b901e4cb-417b-46aa-96af-c3b090ae5bb1"
      },
      "execution_count": 46,
      "outputs": [
        {
          "output_type": "stream",
          "name": "stdout",
          "text": [
            "Job\n",
            "Interior and spatial designer        31\n",
            "Lawyer                               30\n",
            "Social researcher                    28\n",
            "Research officer, political party    27\n",
            "Designer, jewellery                  27\n",
            "Name: count, dtype: int64\n"
          ]
        }
      ]
    },
    {
      "cell_type": "markdown",
      "source": [
        "Alguém fez uma compra que veio do Lot: \"90 WT\", qual foi o preço de compra para esta transação?"
      ],
      "metadata": {
        "id": "J86Gc13JArRY"
      }
    },
    {
      "cell_type": "code",
      "source": [
        "price_for_lot_90wt = df_ecom[df_ecom['Lot'] == '90 WT']['Purchase Price'].iloc[0]\n",
        "print(f\"${price_for_lot_90wt:.2f}\")"
      ],
      "metadata": {
        "id": "wYQO98G3AtzA",
        "colab": {
          "base_uri": "https://localhost:8080/"
        },
        "outputId": "e0233af7-964e-4917-a78a-570e1d316f6d"
      },
      "execution_count": 47,
      "outputs": [
        {
          "output_type": "stream",
          "name": "stdout",
          "text": [
            "$75.10\n"
          ]
        }
      ]
    },
    {
      "cell_type": "markdown",
      "source": [
        "Qual é o email da pessoa com o seguinte número do cartão de crédito: 4926535242672853"
      ],
      "metadata": {
        "id": "iQU0EHCDAuQf"
      }
    },
    {
      "cell_type": "code",
      "source": [
        "email_for_card = df_ecom[df_ecom['Credit Card'] == 4926535242672853]['Email'].iloc[0]\n",
        "print(email_for_card)"
      ],
      "metadata": {
        "id": "NSnoNN1MAxAP",
        "colab": {
          "base_uri": "https://localhost:8080/"
        },
        "outputId": "8f38c04d-73c1-44b4-e58d-708649b44802"
      },
      "execution_count": 48,
      "outputs": [
        {
          "output_type": "stream",
          "name": "stdout",
          "text": [
            "bondellen@williams-garza.com\n"
          ]
        }
      ]
    },
    {
      "cell_type": "markdown",
      "source": [
        "Quantas pessoas têm o American Express como seu fornecedor de cartão de crédito e fizeram uma compra acima de US $ 95?"
      ],
      "metadata": {
        "id": "C5IpTMsZAxZ_"
      }
    },
    {
      "cell_type": "code",
      "source": [
        "num_american_express_above_95 = df_ecom[(df_ecom['CC Provider'] == 'American Express') & (df_ecom['Purchase Price'] > 95)].shape[0]\n",
        "print(num_american_express_above_95)"
      ],
      "metadata": {
        "id": "xxH6Ztb8A0Xg",
        "colab": {
          "base_uri": "https://localhost:8080/"
        },
        "outputId": "391f9ead-2061-48b2-e250-ce87092421be"
      },
      "execution_count": 49,
      "outputs": [
        {
          "output_type": "stream",
          "name": "stdout",
          "text": [
            "39\n"
          ]
        }
      ]
    },
    {
      "cell_type": "markdown",
      "source": [
        "Difícil: quantas pessoas tem um cartão de crédito que expira em 2025?"
      ],
      "metadata": {
        "id": "hcyvkKPrA0rI"
      }
    },
    {
      "cell_type": "code",
      "source": [
        "# df_ecom['CC Exp Date'] = df_ecom['CC Exp Date'].astype(str)\n",
        "\n",
        "num_expiring_2025 = df_ecom[df_ecom['CC Exp Date'].str.endswith('25')].shape[0]\n",
        "print(num_expiring_2025)"
      ],
      "metadata": {
        "id": "dvkP1ogRA3Ng",
        "colab": {
          "base_uri": "https://localhost:8080/"
        },
        "outputId": "3abae914-b1ea-4815-f0cf-5fe00a74248b"
      },
      "execution_count": 50,
      "outputs": [
        {
          "output_type": "stream",
          "name": "stdout",
          "text": [
            "1033\n"
          ]
        }
      ]
    },
    {
      "cell_type": "markdown",
      "source": [
        "Difícil: quais são os 5 principais provedores de e-mail / hosts mais populares (por exemplo, gmail.com, yahoo.com, etc ...)"
      ],
      "metadata": {
        "id": "NCXBLQZqA3nn"
      }
    },
    {
      "cell_type": "code",
      "source": [
        "df_ecom['Email Domain'] = df_ecom['Email'].str.split('@').str[1]\n",
        "top_5_email_providers = df_ecom['Email Domain'].value_counts().head(5)\n",
        "print(top_5_email_providers)"
      ],
      "metadata": {
        "id": "7xBXrsz-A6BX",
        "colab": {
          "base_uri": "https://localhost:8080/"
        },
        "outputId": "625771d8-5b44-40c1-89cd-a75da877196d"
      },
      "execution_count": 51,
      "outputs": [
        {
          "output_type": "stream",
          "name": "stdout",
          "text": [
            "Email Domain\n",
            "hotmail.com     1638\n",
            "yahoo.com       1616\n",
            "gmail.com       1605\n",
            "smith.com         42\n",
            "williams.com      37\n",
            "Name: count, dtype: int64\n"
          ]
        }
      ]
    },
    {
      "cell_type": "markdown",
      "source": [
        "## **Exercício - Conceito Enade**"
      ],
      "metadata": {
        "id": "CiwNuE0J_pFH"
      }
    },
    {
      "cell_type": "markdown",
      "source": [
        "1) Utilizando a base de dados conceito_enade_2021.xlsx, faça uma análise estatística e realize as plotagens que achar pertinente na exploração dos dados."
      ],
      "metadata": {
        "id": "oLnKnIqG_wev"
      }
    },
    {
      "cell_type": "code",
      "source": [
        "import pandas as pd\n",
        "import matplotlib.pyplot as plt\n",
        "import seaborn as sns"
      ],
      "metadata": {
        "id": "jVmamy10_x_I"
      },
      "execution_count": 52,
      "outputs": []
    },
    {
      "cell_type": "code",
      "source": [
        "df_conc = pd.read_excel(path_conc)\n",
        "print(df_conc.head())"
      ],
      "metadata": {
        "colab": {
          "base_uri": "https://localhost:8080/"
        },
        "id": "LqVHfoywmutG",
        "outputId": "2b04e593-62fc-432b-f0ee-157188d2d181"
      },
      "execution_count": 53,
      "outputs": [
        {
          "output_type": "stream",
          "name": "stdout",
          "text": [
            "    Ano  Código da Área Área de Avaliação Grau Acadêmico  Código da IES  \\\n",
            "0  2021          2501.0    ARTES VISUAIS    Licenciatura            2.0   \n",
            "1  2021          2501.0    ARTES VISUAIS    Licenciatura            2.0   \n",
            "2  2021          2501.0    ARTES VISUAIS    Licenciatura            3.0   \n",
            "3  2021          2501.0    ARTES VISUAIS    Licenciatura            4.0   \n",
            "4  2021          2501.0    ARTES VISUAIS    Licenciatura            4.0   \n",
            "\n",
            "                       Nome da IES* Sigla da IES* Organização Acadêmica  \\\n",
            "0          UNIVERSIDADE DE BRASÍLIA           UNB          Universidade   \n",
            "1          UNIVERSIDADE DE BRASÍLIA           UNB          Universidade   \n",
            "2   UNIVERSIDADE FEDERAL DE SERGIPE           UFS          Universidade   \n",
            "3  UNIVERSIDADE FEDERAL DO AMAZONAS          UFAM          Universidade   \n",
            "4  UNIVERSIDADE FEDERAL DO AMAZONAS          UFAM          Universidade   \n",
            "\n",
            "  Categoria Administrativa  Código do Curso  ... Sigla da UF**   \\\n",
            "0          Pública Federal            151.0  ...             DF   \n",
            "1          Pública Federal          52159.0  ...             DF   \n",
            "2          Pública Federal          80419.0  ...             SE   \n",
            "3          Pública Federal          62512.0  ...             AM   \n",
            "4          Pública Federal         112126.0  ...             AM   \n",
            "\n",
            "   Nº de Concluintes Inscritos Nº  de Concluintes Participantes  \\\n",
            "0                         54.0                             41.0   \n",
            "1                         34.0                             28.0   \n",
            "2                         33.0                             33.0   \n",
            "3                         27.0                             23.0   \n",
            "4                         65.0                             59.0   \n",
            "\n",
            "  Nota Bruta - FG  Nota Padronizada - FG  Nota Bruta - CE  \\\n",
            "0          45.814                  3.771           61.907   \n",
            "1          40.496                  2.988           51.514   \n",
            "2          36.445                  2.392           51.121   \n",
            "3          43.569                  3.441           54.447   \n",
            "4          25.818                  0.828           33.503   \n",
            "\n",
            "   Nota Padronizada - CE  Conceito Enade (Contínuo)  Conceito Enade (Faixa)  \\\n",
            "0                  3.947                      3.903                       4   \n",
            "1                  2.640                      2.727                       3   \n",
            "2                  2.590                      2.541                       3   \n",
            "3                  3.009                      3.117                       4   \n",
            "4                  0.374                      0.488                       1   \n",
            "\n",
            "   Observação  \n",
            "0         NaN  \n",
            "1         NaN  \n",
            "2         NaN  \n",
            "3         NaN  \n",
            "4         NaN  \n",
            "\n",
            "[5 rows x 23 columns]\n"
          ]
        }
      ]
    },
    {
      "cell_type": "code",
      "source": [
        "print(df_conc.info())"
      ],
      "metadata": {
        "colab": {
          "base_uri": "https://localhost:8080/"
        },
        "id": "HsgZKHxDm6dX",
        "outputId": "15875b4f-b836-4a88-b1d3-d98f3a8bd845"
      },
      "execution_count": 54,
      "outputs": [
        {
          "output_type": "stream",
          "name": "stdout",
          "text": [
            "<class 'pandas.core.frame.DataFrame'>\n",
            "RangeIndex: 8000 entries, 0 to 7999\n",
            "Data columns (total 23 columns):\n",
            " #   Column                            Non-Null Count  Dtype  \n",
            "---  ------                            --------------  -----  \n",
            " 0   Ano                               7999 non-null   object \n",
            " 1   Código da Área                    7997 non-null   float64\n",
            " 2   Área de Avaliação                 7997 non-null   object \n",
            " 3   Grau Acadêmico                    7997 non-null   object \n",
            " 4   Código da IES                     7997 non-null   float64\n",
            " 5   Nome da IES*                      7997 non-null   object \n",
            " 6   Sigla da IES*                     7502 non-null   object \n",
            " 7   Organização Acadêmica             7997 non-null   object \n",
            " 8   Categoria Administrativa          7997 non-null   object \n",
            " 9   Código do Curso                   7997 non-null   float64\n",
            " 10  Modalidade de Ensino              7997 non-null   object \n",
            " 11  Código do Município**             7997 non-null   float64\n",
            " 12  Município do Curso**              7997 non-null   object \n",
            " 13  Sigla da UF**                     7997 non-null   object \n",
            " 14  Nº de Concluintes Inscritos       7997 non-null   float64\n",
            " 15  Nº  de Concluintes Participantes  7997 non-null   float64\n",
            " 16  Nota Bruta - FG                   7512 non-null   float64\n",
            " 17  Nota Padronizada - FG             7512 non-null   float64\n",
            " 18  Nota Bruta - CE                   7512 non-null   float64\n",
            " 19  Nota Padronizada - CE             7512 non-null   float64\n",
            " 20  Conceito Enade (Contínuo)         7512 non-null   float64\n",
            " 21  Conceito Enade (Faixa)            7853 non-null   object \n",
            " 22  Observação                        144 non-null    object \n",
            "dtypes: float64(11), object(12)\n",
            "memory usage: 1.4+ MB\n",
            "None\n"
          ]
        }
      ]
    },
    {
      "cell_type": "code",
      "source": [
        "print(df_conc.describe())"
      ],
      "metadata": {
        "colab": {
          "base_uri": "https://localhost:8080/"
        },
        "id": "ffx4J5JZm_b-",
        "outputId": "7e9619c3-2020-4384-e769-a51016117867"
      },
      "execution_count": 59,
      "outputs": [
        {
          "output_type": "stream",
          "name": "stdout",
          "text": [
            "       Código da Área  Código da IES  Código do Curso  Código do Município**  \\\n",
            "count     7997.000000    7997.000000     7.997000e+03           7.997000e+03   \n",
            "mean      2362.292360    2270.348631     5.905363e+05           3.395798e+06   \n",
            "std       1514.196746    4284.792302     7.860225e+05           9.724587e+05   \n",
            "min         26.000000       1.000000     6.000000e+00           1.100023e+06   \n",
            "25%       1402.000000     374.000000     5.008200e+04           2.903201e+06   \n",
            "50%       2001.000000     688.000000     1.129840e+05           3.506003e+06   \n",
            "75%       3501.000000    1847.000000     1.190631e+06           4.113700e+06   \n",
            "max       6409.000000   25352.000000     5.001487e+06           5.300108e+06   \n",
            "\n",
            "       Nº de Concluintes Inscritos  Nº  de Concluintes Participantes  \\\n",
            "count                  7997.000000                       7997.000000   \n",
            "mean                     61.256221                         44.403526   \n",
            "std                     461.263424                        362.012872   \n",
            "min                       1.000000                          0.000000   \n",
            "25%                      12.000000                          9.000000   \n",
            "50%                      24.000000                         19.000000   \n",
            "75%                      45.000000                         35.000000   \n",
            "max                   26771.000000                      23842.000000   \n",
            "\n",
            "       Nota Bruta - FG  Nota Padronizada - FG  Nota Bruta - CE  \\\n",
            "count      7512.000000            7512.000000      7512.000000   \n",
            "mean         34.670726               2.465362        41.306688   \n",
            "std           7.479675               0.935277         9.361346   \n",
            "min           3.750000               0.000000        11.400000   \n",
            "25%          29.421000               1.822000        34.887750   \n",
            "50%          34.190500               2.432000        40.822500   \n",
            "75%          39.651250               3.088000        47.166000   \n",
            "max          66.700000               5.000000        85.550000   \n",
            "\n",
            "       Nota Padronizada - CE  Conceito Enade (Contínuo)  \n",
            "count            7512.000000                7512.000000  \n",
            "mean                2.379196                   2.400736  \n",
            "std                 0.974633                   0.912079  \n",
            "min                 0.000000                   0.000000  \n",
            "25%                 1.678750                   1.751000  \n",
            "50%                 2.320000                   2.339000  \n",
            "75%                 3.029000                   3.007500  \n",
            "max                 5.000000                   5.000000  \n"
          ]
        }
      ]
    },
    {
      "cell_type": "code",
      "source": [
        "print(df_conc.isnull().sum())"
      ],
      "metadata": {
        "colab": {
          "base_uri": "https://localhost:8080/"
        },
        "id": "P-j9HnCxnCqe",
        "outputId": "223f7168-5721-43f7-cd03-4180c7aabb95"
      },
      "execution_count": 56,
      "outputs": [
        {
          "output_type": "stream",
          "name": "stdout",
          "text": [
            "Ano                                    1\n",
            "Código da Área                         3\n",
            "Área de Avaliação                      3\n",
            "Grau Acadêmico                         3\n",
            "Código da IES                          3\n",
            "Nome da IES*                           3\n",
            "Sigla da IES*                        498\n",
            "Organização Acadêmica                  3\n",
            "Categoria Administrativa               3\n",
            "Código do Curso                        3\n",
            "Modalidade de Ensino                   3\n",
            "Código do Município**                  3\n",
            "Município do Curso**                   3\n",
            "Sigla da UF**                          3\n",
            "Nº de Concluintes Inscritos            3\n",
            "Nº  de Concluintes Participantes       3\n",
            "Nota Bruta - FG                      488\n",
            "Nota Padronizada - FG                488\n",
            "Nota Bruta - CE                      488\n",
            "Nota Padronizada - CE                488\n",
            "Conceito Enade (Contínuo)            488\n",
            "Conceito Enade (Faixa)               147\n",
            "Observação                          7856\n",
            "dtype: int64\n"
          ]
        }
      ]
    },
    {
      "cell_type": "markdown",
      "source": [
        "2) Utilizando a base de dados conceito_enade_2021.xlsx, construa um modelo de clusterização e analise os resultados encontrados."
      ],
      "metadata": {
        "id": "yiLkAbC3_yPf"
      }
    },
    {
      "cell_type": "code",
      "source": [],
      "metadata": {
        "id": "ZKLi6EpP_1CH"
      },
      "execution_count": null,
      "outputs": []
    }
  ]
}