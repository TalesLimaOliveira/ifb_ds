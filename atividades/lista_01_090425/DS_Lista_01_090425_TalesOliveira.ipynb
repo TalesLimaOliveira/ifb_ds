{
  "nbformat": 4,
  "nbformat_minor": 0,
  "metadata": {
    "colab": {
      "provenance": [],
      "collapsed_sections": [
        "1Dl2VVruNrXd",
        "GrrvNnYGTUAF",
        "wwLjUIpfW5hu",
        "Gzu1ZpkHY38w",
        "DFzuca0CY_oh",
        "K8W2jXxvY_3A",
        "l7okWbxdZABH",
        "_TeKh7F_ZAhs",
        "1PvWBalkZAoX"
      ]
    },
    "kernelspec": {
      "name": "python3",
      "display_name": "Python 3"
    },
    "language_info": {
      "name": "python"
    }
  },
  "cells": [
    {
      "cell_type": "markdown",
      "source": [
        "# **Data Science - IFB**\n",
        "\n",
        "**TALES LIMA DE OLIVEIRA**\n",
        "\n",
        "**_Lista 01 - 09/04/25_**"
      ],
      "metadata": {
        "id": "oQvGmOXNNz61"
      }
    },
    {
      "cell_type": "markdown",
      "source": [
        "## 1. Desenvolva um programa que selecione um número aleatório entre 0 e 100. O usuário deverá tentar adivinhar esse número. Ao final, o programa exibirá a sequência de palpites do usuário e o total de tentativas feitas até acertar o número correto."
      ],
      "metadata": {
        "id": "1Dl2VVruNrXd"
      }
    },
    {
      "cell_type": "code",
      "source": [
        "import random\n",
        "\n",
        "def guessing_game():\n",
        "    secret = random.randint(0, 100)\n",
        "    guesses = []\n",
        "    print(\"Tente adivinhar o número entre 0 e 100!\")\n",
        "\n",
        "    while True:\n",
        "        g = input(\"Seu palpite: \")\n",
        "        if not g.isdigit() or not (0 <= int(g) <= 100):\n",
        "            print(\"Digite um número entre 0 e 100.\")\n",
        "            continue\n",
        "\n",
        "        g = int(g)\n",
        "        guesses.append(g)\n",
        "\n",
        "        if g == secret:\n",
        "            print(\"Parabéns! Você acertou!\")\n",
        "            break\n",
        "        print(\"Muito baixo!\" if g < secret else \"Muito alto!\")\n",
        "\n",
        "    print(\"\\n--- Resultado ---\")\n",
        "    print(\"Tentativas:\", len(guesses))\n",
        "    print(\"Palpites:\", guesses)\n",
        "\n",
        "guessing_game()"
      ],
      "metadata": {
        "id": "tXPsq0yHPGSN"
      },
      "execution_count": null,
      "outputs": []
    },
    {
      "cell_type": "markdown",
      "source": [
        "## 2. Você está organizando uma lista de alunos por turmas em uma escola. Cada turma contém vários alunos, e cada aluno é representado por um dicionário com informações sobre seu nome e idade."
      ],
      "metadata": {
        "id": "GrrvNnYGTUAF"
      }
    },
    {
      "cell_type": "markdown",
      "source": [
        "### a) Criar as turmas: Crie duas turmas, cada uma contendo uma lista de dicionários representando os alunos. Cada dicionário deve ter as chaves \"nome\" e \"idade\"."
      ],
      "metadata": {
        "id": "PWhsPro0TwsV"
      }
    },
    {
      "cell_type": "code",
      "source": [
        "class1 = [\n",
        "    {\"name\": \"Ana\", \"age\": 14},\n",
        "    {\"name\": \"Bruno\", \"age\": 15},\n",
        "    {\"name\": \"Carla\", \"age\": 14}\n",
        "]\n",
        "\n",
        "class2 = [\n",
        "    {\"name\": \"Daniel\", \"age\": 13},\n",
        "    {\"name\": \"Eduarda\", \"age\": 14},\n",
        "    {\"name\": \"Felipe\", \"age\": 13}\n",
        "]"
      ],
      "metadata": {
        "id": "USv4cemIS8Yl"
      },
      "execution_count": null,
      "outputs": []
    },
    {
      "cell_type": "markdown",
      "source": [
        "### b) Adicionar um novo aluno: Adicione um novo aluno em uma das turmas."
      ],
      "metadata": {
        "id": "D-yp3KnaTgAd"
      }
    },
    {
      "cell_type": "code",
      "source": [
        "new_student = {\"name\": \"Gabriel\", \"age\": 15}\n",
        "class1.append(new_student)"
      ],
      "metadata": {
        "id": "To81kSUgTm71"
      },
      "execution_count": null,
      "outputs": []
    },
    {
      "cell_type": "markdown",
      "source": [
        "### c) Remover um aluno: Remova um aluno de uma das turmas."
      ],
      "metadata": {
        "id": "FwxIkpqWTnUt"
      }
    },
    {
      "cell_type": "code",
      "source": [
        "student_to_remove = \"Carla\"\n",
        "class1 = [student for student in class1 if student[\"name\"] != student_to_remove]"
      ],
      "metadata": {
        "id": "sP6WGxkfTolt"
      },
      "execution_count": null,
      "outputs": []
    },
    {
      "cell_type": "markdown",
      "source": [
        "### d) Exibir os alunos de uma turma"
      ],
      "metadata": {
        "id": "OsGH034zTpDd"
      }
    },
    {
      "cell_type": "code",
      "source": [
        "print(\"Alunos da turma 1:\")\n",
        "for student in class1:\n",
        "    print(f\"Nome: {student['name']}, Idade: {student['age']}\")"
      ],
      "metadata": {
        "id": "U0NkrateTp7l"
      },
      "execution_count": null,
      "outputs": []
    },
    {
      "cell_type": "markdown",
      "source": [
        "## 3. Crie uma função que receba uma lista de palavras e retorne o número de palavras que tenham um tamanho maior do que 5."
      ],
      "metadata": {
        "id": "wwLjUIpfW5hu"
      }
    },
    {
      "cell_type": "code",
      "source": [
        "def count_long_words(word_list):\n",
        "    return len([word for word in word_list if len(word) > 5])\n",
        "\n",
        "words = [\"banana\", \"sol\", \"computador\", \"livro\", \"água\", \"amizade\"]\n",
        "print(count_long_words(words))"
      ],
      "metadata": {
        "id": "Om7PLhkDXARG"
      },
      "execution_count": null,
      "outputs": []
    },
    {
      "cell_type": "markdown",
      "source": [
        "## 4.Você deve construir uma pirâmide ao estilo Mario. O tamanho da pirâmide será decidida pelo usuário."
      ],
      "metadata": {
        "id": "Gzu1ZpkHY38w"
      }
    },
    {
      "cell_type": "code",
      "source": [
        "def mario_pyramid(height):\n",
        "    for i in range(1, height + 1):\n",
        "        spaces = ' ' * (height - i)\n",
        "        blocks = '#' * i\n",
        "        print(spaces + blocks)\n",
        "\n",
        "user_height = int(input(\"Tamanho: \"))\n",
        "mario_pyramid(user_height)"
      ],
      "metadata": {
        "id": "7Rwm4uJFZh_H"
      },
      "execution_count": null,
      "outputs": []
    },
    {
      "cell_type": "markdown",
      "source": [
        "## 5. Usando a biblioteca Numpy:  Faça uma função que receba um array como entrada, remova o primeiro e o último elementos do array e retorne um novo array contendo os elementos restantes."
      ],
      "metadata": {
        "id": "DFzuca0CY_oh"
      }
    },
    {
      "cell_type": "code",
      "source": [
        "import numpy as np\n",
        "\n",
        "def remove_first_and_last(arr):\n",
        "    if arr.size <= 2:\n",
        "        return np.array([])  # Retorna array vazio se tiver 2 ou menos elementos\n",
        "    return arr[1:-1]\n",
        "\n",
        "array = np.array([10, 20, 30, 40, 50])\n",
        "new_array = remove_first_and_last(array)\n",
        "print(\"Novo array:\", new_array)"
      ],
      "metadata": {
        "id": "LTLxaba5agn3"
      },
      "execution_count": null,
      "outputs": []
    },
    {
      "cell_type": "markdown",
      "source": [
        "## 6. Utilizando a biblioteca Numpy: Gere um array A contendo todos os números ímpares entre 0 e 100. A partir de A, crie outro array que contenha a soma cumulativa dos elementos de A que são divisíveis por 3 e 5 simultaneamente."
      ],
      "metadata": {
        "id": "K8W2jXxvY_3A"
      }
    },
    {
      "cell_type": "code",
      "source": [
        "import numpy as np\n",
        "\n",
        "# Passo 1: Gerar array A com números ímpares de 0 a 100\n",
        "A = np.arange(1, 100, 2)\n",
        "\n",
        "# Passo 2: Filtrar elementos divisíveis por 3 e 5 (ou seja, por 15)\n",
        "divisible_by_15 = A[(A % 15 == 0)]\n",
        "\n",
        "# Passo 3: Calcular a soma cumulativa\n",
        "cumulative_sum = np.cumsum(divisible_by_15)\n",
        "\n",
        "# Exibir os resultados\n",
        "print(\"Array A (ímpares):\", A)\n",
        "print(\"Divisíveis por 3 e 5:\", divisible_by_15)\n",
        "print(\"Soma cumulativa:\", cumulative_sum)"
      ],
      "metadata": {
        "id": "tpJkRnvkarWu"
      },
      "execution_count": null,
      "outputs": []
    },
    {
      "cell_type": "markdown",
      "source": [
        "## 7. Faça uma função que dados dois vetores (valores e pesos), calcule a média ponderada de valores com seus respectivos pesos. Observação: não é permitido utilizar a função np.average do NumPy"
      ],
      "metadata": {
        "id": "l7okWbxdZABH"
      }
    },
    {
      "cell_type": "code",
      "source": [
        "import numpy as np\n",
        "\n",
        "def weighted_average(values, weights):\n",
        "    values = np.array(values)\n",
        "    weights = np.array(weights)\n",
        "\n",
        "    if values.size != weights.size:\n",
        "        raise ValueError(\"Os vetores de valores e pesos devem ter o mesmo tamanho.\")\n",
        "\n",
        "    total_weight = np.sum(weights)\n",
        "    weighted_sum = np.sum(values * weights)\n",
        "\n",
        "    return weighted_sum / total_weight\n",
        "\n",
        "valores = [7.5, 8.0, 6.0]\n",
        "pesos = [2, 3, 1]\n",
        "\n",
        "media = weighted_average(valores, pesos)\n",
        "print(f\"Média ponderada: {media:.2f}\")"
      ],
      "metadata": {
        "id": "DiKeN0xaasnX"
      },
      "execution_count": null,
      "outputs": []
    },
    {
      "cell_type": "markdown",
      "source": [
        "## 8. Utilizando a biblioteca Numpy: Você é um professor e está organizando as notas de seus alunos. Para tanto, você precisa realizar algumas tarefas, como:"
      ],
      "metadata": {
        "id": "_TeKh7F_ZAhs"
      }
    },
    {
      "cell_type": "markdown",
      "source": [
        "### a) Determinar a média das notas"
      ],
      "metadata": {
        "id": "KmROMhxncuxP"
      }
    },
    {
      "cell_type": "code",
      "source": [
        "import numpy as np\n",
        "\n",
        "# Lista de nomes dos alunos\n",
        "students = np.array([\"Ana\", \"Bruno\", \"Carla\", \"Daniel\", \"Eduarda\", \"Felipe\", \"Gabriel\"])\n",
        "# Notas correspondentes\n",
        "grades = np.array([7.5, 5.0, 8.0, 6.0, 4.5, 9.0, 3.5])\n",
        "\n",
        "average_grade = np.mean(grades)\n",
        "print(f\"Média da turma: {average_grade:.2f}\")"
      ],
      "metadata": {
        "id": "rQR8LemTc0en"
      },
      "execution_count": null,
      "outputs": []
    },
    {
      "cell_type": "markdown",
      "source": [
        "### b) Determinar a maior e a menor notas e os alunos que as tiraram"
      ],
      "metadata": {
        "id": "UojEkasNcwjH"
      }
    },
    {
      "cell_type": "code",
      "source": [
        "max_grade = np.max(grades)\n",
        "min_grade = np.min(grades)\n",
        "\n",
        "students_max = students[grades == max_grade]\n",
        "students_min = students[grades == min_grade]\n",
        "\n",
        "print(f\"Maior nota: {max_grade} - Aluno(s): {', '.join(students_max)}\")\n",
        "print(f\"Menor nota: {min_grade} - Aluno(s): {', '.join(students_min)}\")"
      ],
      "metadata": {
        "id": "o6rlYnl8c1Bn"
      },
      "execution_count": null,
      "outputs": []
    },
    {
      "cell_type": "markdown",
      "source": [
        "### c) Determinar as notas dos alunos aprovados e reprovados"
      ],
      "metadata": {
        "id": "3JkiomYGcx_3"
      }
    },
    {
      "cell_type": "code",
      "source": [
        "approved = students[grades >= 5.0]\n",
        "approved_grades = grades[grades >= 5.0]\n",
        "\n",
        "reproved = students[grades < 5.0]\n",
        "reproved_grades = grades[grades < 5.0]\n",
        "\n",
        "print(\"Alunos aprovados:\")\n",
        "for name, grade in zip(approved, approved_grades):\n",
        "    print(f\"{name}: {grade}\")\n",
        "\n",
        "print(\"\\nAlunos reprovados:\")\n",
        "for name, grade in zip(reproved, reproved_grades):\n",
        "    print(f\"{name}: {grade}\")"
      ],
      "metadata": {
        "id": "XaQdKbQratX_"
      },
      "execution_count": null,
      "outputs": []
    },
    {
      "cell_type": "markdown",
      "source": [
        "## 9. Sem utilizar a biblioteca Numpy:  Faça uma função que receba um array como entrada, remova o primeiro e o último elementos do array e retorne um novo array contendo os elementos restantes."
      ],
      "metadata": {
        "id": "1PvWBalkZAoX"
      }
    },
    {
      "cell_type": "code",
      "source": [
        "def remove_first_and_last(arr):\n",
        "    if len(arr) <= 2:\n",
        "        return []  # Retorna lista vazia se tiver 2 ou menos elementos\n",
        "    return arr[1:-1]\n",
        "\n",
        "lista = [10, 20, 30, 40, 50]\n",
        "nova_lista = remove_first_and_last(lista)\n",
        "print(\"Nova lista:\", nova_lista)"
      ],
      "metadata": {
        "id": "RC6gEET9auC2"
      },
      "execution_count": null,
      "outputs": []
    },
    {
      "cell_type": "markdown",
      "source": [
        "## 10. Considere um array bidimensional no qual cada vetor de uma dimensão possui 3 pontuações que um jogador recebeu em 3 provas distintas. Faça uma função que dado esse array, retorne a prova com maior soma de pontuações."
      ],
      "metadata": {
        "id": "7YFYuqeeZAyT"
      }
    },
    {
      "cell_type": "code",
      "source": [
        "def best_exam(scores):\n",
        "    if not scores or not scores[0]:\n",
        "        return None  # Lista vazia ou mal formatada\n",
        "\n",
        "    # Supondo que todas as linhas têm o mesmo tamanho\n",
        "    num_exams = len(scores[0])\n",
        "    total_by_exam = [0] * num_exams\n",
        "\n",
        "    # Soma das colunas\n",
        "    for row in scores:\n",
        "        for i in range(num_exams):\n",
        "            total_by_exam[i] += row[i]\n",
        "\n",
        "    # Encontrar o índice da prova com maior soma\n",
        "    max_index = total_by_exam.index(max(total_by_exam))\n",
        "    return max_index  # ou retornar \"Prova 1\", \"Prova 2\", etc.\n",
        "\n",
        "# Cada linha: jogador -> [prova1, prova2, prova3]\n",
        "pontuacoes = [\n",
        "    [10, 8, 6],\n",
        "    [7, 9, 5],\n",
        "    [8, 6, 9]\n",
        "]\n",
        "\n",
        "print(f\"A prova com maior soma de pontuações é a Prova {best_exam(pontuacoes) + 1}\")"
      ],
      "metadata": {
        "id": "YuyD7fl9auhf"
      },
      "execution_count": null,
      "outputs": []
    },
    {
      "cell_type": "markdown",
      "source": [],
      "metadata": {
        "id": "Og9EYZCXY1lO"
      }
    }
  ]
}